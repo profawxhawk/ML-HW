{
 "cells": [
  {
   "cell_type": "code",
   "execution_count": 121,
   "metadata": {},
   "outputs": [],
   "source": [
    "import math\n",
    "import pandas as pd\n",
    "import numpy as np\n",
    "import matplotlib.pyplot as plt\n",
    "from sklearn.svm import SVC\n",
    "import pickle\n",
    "import sklearn.multiclass as sm\n",
    "from sklearn.decomposition import PCA\n",
    "from sklearn.metrics import confusion_matrix \n",
    "from sklearn.metrics import accuracy_score \n",
    "from sklearn.metrics import classification_report "
   ]
  },
  {
   "cell_type": "code",
   "execution_count": 111,
   "metadata": {},
   "outputs": [],
   "source": [
    "def unpickle(file):\n",
    "    with open(file, 'rb') as fo:\n",
    "        dict = pickle.load(fo, encoding='bytes')\n",
    "    return dict\n",
    "def normalize(x):\n",
    "    min_val = np.min(x)\n",
    "    max_val = np.max(x)\n",
    "    x = (x-min_val) / (max_val-min_val)\n",
    "    return x\n",
    "\n",
    "def convert(data):\n",
    "    im = data\n",
    "    im_r = im[0:1024].reshape(32, 32).astype('float64')\n",
    "    im_g = im[1024:2048].reshape(32, 32).astype('float64')\n",
    "    im_b = im[2048:].reshape(32, 32).astype('float64')\n",
    "    img = np.dstack((im_r, im_g, im_b))\n",
    "#     grey = rgb2gray(img)\n",
    "    return normalize(data).flatten()"
   ]
  },
  {
   "cell_type": "code",
   "execution_count": 112,
   "metadata": {},
   "outputs": [],
   "source": [
    "def extract_data():\n",
    "    train_data=[]\n",
    "    for i in range(1,6):\n",
    "        file='./cifar-10-batches-py/data_batch_'+str(i)\n",
    "        temp=unpickle(file)\n",
    "        temp_data=[]\n",
    "        mat_data=[]\n",
    "        for j in range(len(temp[b'data'])):\n",
    "            op=convert(temp[b'data'][j])\n",
    "            mat_data.append(op)\n",
    "        temp_data.append(np.asarray(mat_data).astype('float64'))\n",
    "        temp_data.append(np.asarray(temp[b'labels']).reshape(temp[b'data'].shape[0],1))\n",
    "        train_data.append(temp_data)\n",
    "    temp=unpickle('./cifar-10-batches-py/test_batch')\n",
    "    temp_data=[]\n",
    "    mat_data=[]\n",
    "    for j in range(len(temp[b'data'])):\n",
    "        op=convert(temp[b'data'][j])\n",
    "        mat_data.append(op)\n",
    "    temp_data.append(np.asarray(mat_data).astype('float64'))\n",
    "    temp_data.append(np.asarray(temp[b'labels']).reshape(temp[b'data'].shape[0],1))\n",
    "    test_data=temp_data\n",
    "    temp=unpickle('./cifar-10-batches-py/batches.meta')\n",
    "    labels=temp[b'label_names']\n",
    "    for i in range(len(labels)):\n",
    "        labels[i]=(labels[i].decode(\"utf-8\"))\n",
    "    return train_data,test_data,labels\n",
    "\n"
   ]
  },
  {
   "cell_type": "code",
   "execution_count": 127,
   "metadata": {},
   "outputs": [],
   "source": [
    "def normalize123(data,test):\n",
    "    data=data.astype('float64')\n",
    "    test=test.astype('float64')\n",
    "    mean = np.mean(data, axis = 0)\n",
    "    data -= mean\n",
    "    test -= mean\n",
    "    return data,test\n",
    "\n",
    "def roc(ovo,X_test,Y_test):\n",
    "    probabilities = ovo.predict_proba(X_test)\n",
    "    y_proba = probabilities[:, 1]\n",
    "    false_positive_rate, true_positive_rate, thresholds = roc_curve(Y_test, y_proba, pos_label=1)\n",
    "    roc_auc = auc(false_positive_rate, true_positive_rate)\n",
    "    plt.title('Receiver Operating Characteristic')\n",
    "    roc_plot = plt.plot(false_positive_rate,\n",
    "                        true_positive_rate,\n",
    "                        label='AUC = {:0.2f}'.format(roc_auc))\n",
    "\n",
    "    plt.legend(loc=0)\n",
    "    plt.plot([0,1], [0,1], ls='--')\n",
    "    plt.ylabel('True Positive Rate')\n",
    "    plt.xlabel('False Positive Rate')\n",
    "    \n",
    "def svm_linear(data):\n",
    "    X_train=data[0][0]\n",
    "    X_test=data[1][0]\n",
    "    Y_train=data[0][1]\n",
    "    Y_test=data[1][1]\n",
    "    svm = SVC(kernel='linear')\n",
    "    ovo = sm.OneVsOneClassifier(svm)\n",
    "    ovo.fit(X_train,Y_train.ravel())\n",
    "    y_pred = ovo.predict(X_test)\n",
    "    accuracy = accuracy_score(Y_test.ravel(), y_pred)\n",
    "    print(\"Model accuracy is: \", accuracy)\n",
    "    results = confusion_matrix(Y_test.ravel(),y_pred) \n",
    "    print(\"Confusion Matrix: \",results) \n",
    "    roc(ovo,X_test,Y_test.ravel())"
   ]
  },
  {
   "cell_type": "code",
   "execution_count": null,
   "metadata": {},
   "outputs": [],
   "source": []
  },
  {
   "cell_type": "code",
   "execution_count": 114,
   "metadata": {},
   "outputs": [],
   "source": [
    "def pca(train,test):\n",
    "    pca = PCA(n_components=500, random_state=0, svd_solver='randomized')\n",
    "    pca.fit(train[0])\n",
    "    X_train = pca.transform(train[0])\n",
    "    X_test = pca.transform(test[0])\n",
    "    return X_train,X_test\n",
    "    "
   ]
  },
  {
   "cell_type": "code",
   "execution_count": 115,
   "metadata": {},
   "outputs": [],
   "source": [
    "def pca_proc(i,test_data):\n",
    "    train,test=pca(i,test_data)\n",
    "    print(train.shape)\n",
    "    print(test.shape)\n",
    "    train=[train,i[1]]\n",
    "    test=[test,test_data[1]]\n",
    "    return [train,test]\n",
    "   "
   ]
  },
  {
   "cell_type": "code",
   "execution_count": 125,
   "metadata": {},
   "outputs": [
    {
     "name": "stdout",
     "output_type": "stream",
     "text": [
      "(10000, 500)\n",
      "(10000, 500)\n",
      "(10000, 500)\n",
      "(10000, 500)\n",
      "(10000, 500)\n",
      "(10000, 500)\n",
      "(10000, 500)\n",
      "(10000, 500)\n",
      "(10000, 500)\n",
      "(10000, 500)\n",
      "5\n"
     ]
    }
   ],
   "source": [
    "train_data,test_data,labels=extract_data()\n",
    "batch=[]\n",
    "for i in train_data:\n",
    "    temp_test=test_data\n",
    "    i[0],temp_test[0]=normalize123(i[0],temp_test[0])\n",
    "    batch.append(pca_proc(i,temp_test))\n",
    "print(len(batch))"
   ]
  },
  {
   "cell_type": "code",
   "execution_count": 128,
   "metadata": {},
   "outputs": [
    {
     "name": "stdout",
     "output_type": "stream",
     "text": [
      "Model accuracy is:  0.3396\n",
      "Confusion Matrix:  [[368  39  84  50  39  44  23  55 218  80]\n",
      " [ 53 382  48  61  36  58  44  46  99 173]\n",
      " [100  34 247  89 136  93 135  78  50  38]\n",
      " [ 36  59 100 235  87 171 148  61  58  45]\n",
      " [ 41  28 165  84 265  81 160 116  33  27]\n",
      " [ 32  54 113 158 125 260 105  65  59  29]\n",
      " [ 16  44  93 137 111  82 396  55  30  36]\n",
      " [ 51  50  85  75 113  99  52 370  38  67]\n",
      " [160  74  39  42  18  33  20  21 505  88]\n",
      " [ 74 186  30  54  42  22  38  72 114 368]]\n"
     ]
    },
    {
     "ename": "AttributeError",
     "evalue": "'OneVsOneClassifier' object has no attribute 'predict_proba'",
     "output_type": "error",
     "traceback": [
      "\u001b[0;31m---------------------------------------------------------------------------\u001b[0m",
      "\u001b[0;31mAttributeError\u001b[0m                            Traceback (most recent call last)",
      "\u001b[0;32m<ipython-input-128-baeefa15f3c4>\u001b[0m in \u001b[0;36m<module>\u001b[0;34m\u001b[0m\n\u001b[0;32m----> 1\u001b[0;31m \u001b[0msvm_linear\u001b[0m\u001b[0;34m(\u001b[0m\u001b[0mbatch\u001b[0m\u001b[0;34m[\u001b[0m\u001b[0;36m0\u001b[0m\u001b[0;34m]\u001b[0m\u001b[0;34m)\u001b[0m\u001b[0;34m\u001b[0m\u001b[0;34m\u001b[0m\u001b[0m\n\u001b[0m",
      "\u001b[0;32m<ipython-input-127-1cc30fee4e5a>\u001b[0m in \u001b[0;36msvm_linear\u001b[0;34m(data)\u001b[0m\n\u001b[1;32m     35\u001b[0m     \u001b[0mresults\u001b[0m \u001b[0;34m=\u001b[0m \u001b[0mconfusion_matrix\u001b[0m\u001b[0;34m(\u001b[0m\u001b[0mY_test\u001b[0m\u001b[0;34m.\u001b[0m\u001b[0mravel\u001b[0m\u001b[0;34m(\u001b[0m\u001b[0;34m)\u001b[0m\u001b[0;34m,\u001b[0m\u001b[0my_pred\u001b[0m\u001b[0;34m)\u001b[0m\u001b[0;34m\u001b[0m\u001b[0;34m\u001b[0m\u001b[0m\n\u001b[1;32m     36\u001b[0m     \u001b[0mprint\u001b[0m\u001b[0;34m(\u001b[0m\u001b[0;34m\"Confusion Matrix: \"\u001b[0m\u001b[0;34m,\u001b[0m\u001b[0mresults\u001b[0m\u001b[0;34m)\u001b[0m\u001b[0;34m\u001b[0m\u001b[0;34m\u001b[0m\u001b[0m\n\u001b[0;32m---> 37\u001b[0;31m     \u001b[0mroc\u001b[0m\u001b[0;34m(\u001b[0m\u001b[0movo\u001b[0m\u001b[0;34m,\u001b[0m\u001b[0mX_test\u001b[0m\u001b[0;34m,\u001b[0m\u001b[0mY_test\u001b[0m\u001b[0;34m.\u001b[0m\u001b[0mravel\u001b[0m\u001b[0;34m(\u001b[0m\u001b[0;34m)\u001b[0m\u001b[0;34m)\u001b[0m\u001b[0;34m\u001b[0m\u001b[0;34m\u001b[0m\u001b[0m\n\u001b[0m",
      "\u001b[0;32m<ipython-input-127-1cc30fee4e5a>\u001b[0m in \u001b[0;36mroc\u001b[0;34m(ovo, X_test, Y_test)\u001b[0m\n\u001b[1;32m      8\u001b[0m \u001b[0;34m\u001b[0m\u001b[0m\n\u001b[1;32m      9\u001b[0m \u001b[0;32mdef\u001b[0m \u001b[0mroc\u001b[0m\u001b[0;34m(\u001b[0m\u001b[0movo\u001b[0m\u001b[0;34m,\u001b[0m\u001b[0mX_test\u001b[0m\u001b[0;34m,\u001b[0m\u001b[0mY_test\u001b[0m\u001b[0;34m)\u001b[0m\u001b[0;34m:\u001b[0m\u001b[0;34m\u001b[0m\u001b[0;34m\u001b[0m\u001b[0m\n\u001b[0;32m---> 10\u001b[0;31m     \u001b[0mprobabilities\u001b[0m \u001b[0;34m=\u001b[0m \u001b[0movo\u001b[0m\u001b[0;34m.\u001b[0m\u001b[0mpredict_proba\u001b[0m\u001b[0;34m(\u001b[0m\u001b[0mX_test\u001b[0m\u001b[0;34m)\u001b[0m\u001b[0;34m\u001b[0m\u001b[0;34m\u001b[0m\u001b[0m\n\u001b[0m\u001b[1;32m     11\u001b[0m     \u001b[0my_proba\u001b[0m \u001b[0;34m=\u001b[0m \u001b[0mprobabilities\u001b[0m\u001b[0;34m[\u001b[0m\u001b[0;34m:\u001b[0m\u001b[0;34m,\u001b[0m \u001b[0;36m1\u001b[0m\u001b[0;34m]\u001b[0m\u001b[0;34m\u001b[0m\u001b[0;34m\u001b[0m\u001b[0m\n\u001b[1;32m     12\u001b[0m     \u001b[0mfalse_positive_rate\u001b[0m\u001b[0;34m,\u001b[0m \u001b[0mtrue_positive_rate\u001b[0m\u001b[0;34m,\u001b[0m \u001b[0mthresholds\u001b[0m \u001b[0;34m=\u001b[0m \u001b[0mroc_curve\u001b[0m\u001b[0;34m(\u001b[0m\u001b[0mY_test\u001b[0m\u001b[0;34m,\u001b[0m \u001b[0my_proba\u001b[0m\u001b[0;34m,\u001b[0m \u001b[0mpos_label\u001b[0m\u001b[0;34m=\u001b[0m\u001b[0;36m1\u001b[0m\u001b[0;34m)\u001b[0m\u001b[0;34m\u001b[0m\u001b[0;34m\u001b[0m\u001b[0m\n",
      "\u001b[0;31mAttributeError\u001b[0m: 'OneVsOneClassifier' object has no attribute 'predict_proba'"
     ]
    }
   ],
   "source": [
    "svm_linear(batch[0])"
   ]
  },
  {
   "cell_type": "code",
   "execution_count": null,
   "metadata": {},
   "outputs": [],
   "source": []
  }
 ],
 "metadata": {
  "kernelspec": {
   "display_name": "Python 3",
   "language": "python",
   "name": "python3"
  },
  "language_info": {
   "codemirror_mode": {
    "name": "ipython",
    "version": 3
   },
   "file_extension": ".py",
   "mimetype": "text/x-python",
   "name": "python",
   "nbconvert_exporter": "python",
   "pygments_lexer": "ipython3",
   "version": "3.6.8"
  }
 },
 "nbformat": 4,
 "nbformat_minor": 2
}
