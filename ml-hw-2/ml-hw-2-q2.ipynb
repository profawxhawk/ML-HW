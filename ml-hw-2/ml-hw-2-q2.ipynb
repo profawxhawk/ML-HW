{
 "cells": [
  {
   "cell_type": "code",
   "execution_count": 1,
   "metadata": {},
   "outputs": [],
   "source": [
    "import math\n",
    "import pandas as pd\n",
    "import numpy as np\n",
    "import matplotlib.pyplot as plt\n",
    "from sklearn.svm import SVC\n",
    "import pickle\n",
    "import sklearn.multiclass as sm\n",
    "from sklearn.decomposition import PCA\n",
    "from sklearn.metrics import confusion_matrix \n",
    "from sklearn.metrics import accuracy_score \n",
    "from sklearn.metrics import classification_report \n",
    "from sklearn.preprocessing import label_binarize\n",
    "from sklearn.metrics import roc_curve\n",
    "import warnings\n",
    "warnings.filterwarnings(\"ignore\")"
   ]
  },
  {
   "cell_type": "code",
   "execution_count": 2,
   "metadata": {},
   "outputs": [],
   "source": [
    "def unpickle(file):\n",
    "    with open(file, 'rb') as fo:\n",
    "        dict = pickle.load(fo, encoding='bytes')\n",
    "    return dict\n",
    "def normalize(x):\n",
    "    min_val = np.min(x)\n",
    "    max_val = np.max(x)\n",
    "    x = (x-min_val) / (max_val-min_val)\n",
    "    return x\n",
    "\n",
    "def convert(data):\n",
    "    im = data\n",
    "    im_r = im[0:1024].reshape(32, 32).astype('float64')\n",
    "    im_g = im[1024:2048].reshape(32, 32).astype('float64')\n",
    "    im_b = im[2048:].reshape(32, 32).astype('float64')\n",
    "    img = np.dstack((im_r, im_g, im_b))\n",
    "#     grey = rgb2gray(img)\n",
    "    return normalize(data).flatten()"
   ]
  },
  {
   "cell_type": "code",
   "execution_count": 3,
   "metadata": {},
   "outputs": [],
   "source": [
    "def extract_data():\n",
    "    train_data=[]\n",
    "    for i in range(1,2):\n",
    "        file='./cifar-10-batches-py/data_batch_'+str(i)\n",
    "        temp=unpickle(file)\n",
    "        temp_data=[]\n",
    "        mat_data=[]\n",
    "        for j in range(len(temp[b'data'])):\n",
    "            op=convert(temp[b'data'][j])\n",
    "            mat_data.append(op)\n",
    "        temp_data.append(np.asarray(mat_data).astype('float64'))\n",
    "        temp_data.append(np.asarray(temp[b'labels']).reshape(temp[b'data'].shape[0],1))\n",
    "        train_data.append(temp_data)\n",
    "    temp=unpickle('./cifar-10-batches-py/batches.meta')\n",
    "    labels=temp[b'label_names']\n",
    "    for i in range(len(labels)):\n",
    "        labels[i]=(labels[i].decode(\"utf-8\"))\n",
    "    return train_data,labels\n",
    "\n"
   ]
  },
  {
   "cell_type": "code",
   "execution_count": 4,
   "metadata": {},
   "outputs": [
    {
     "name": "stdout",
     "output_type": "stream",
     "text": [
      "[1 2]\n"
     ]
    }
   ],
   "source": [
    "kert=np.asarray([[0,1],[1,2]])\n",
    "print(kert[:,1])"
   ]
  },
  {
   "cell_type": "code",
   "execution_count": 5,
   "metadata": {},
   "outputs": [],
   "source": [
    "def normalize123(data):\n",
    "    data=data.astype('float64')\n",
    "    mean = np.mean(data, axis = 0)\n",
    "    data -= mean\n",
    "    return data\n",
    "\n",
    "def roc(ovo,X_test,Y_test):\n",
    "    y = label_binarize(Y_test, classes=[0,1,2,3,4,5,6,7,8,9])\n",
    "    prob = ovo.decision_function(X_test)\n",
    "    fpr=[0]*10\n",
    "    tpr=[0]*10\n",
    "    for i in range(10):\n",
    "        fpr[i],tpr[i],temp=roc_curve(y[:, i],prob[:, i])\n",
    "    plt.title('Receiver Operating Characteristic')\n",
    "    for i in range(10):\n",
    "         plt.plot(fpr[i],tpr[i],label=('Class for '+str(i)))\n",
    "    plt.plot([0, 1], [0, 1],linestyle='--')\n",
    "    plt.legend(loc='lower right')\n",
    "    plt.show()\n",
    "    \n",
    "def svm_linear(X,Y,x,y,model):\n",
    "    X_train=X\n",
    "    X_test=x\n",
    "    Y_train=Y\n",
    "    Y_test=y\n",
    "    svm = SVC(kernel='linear')\n",
    "    if model=='ovo':\n",
    "        mod = sm.OneVsOneClassifier(svm)\n",
    "    else:\n",
    "        mod = sm.OneVsRestClassifier(svm)\n",
    "    mod.fit(X_train,Y_train.ravel())\n",
    "    y_pred = mod.predict(X_test)\n",
    "    accuracy = accuracy_score(Y_test.ravel(), y_pred)\n",
    "    print(\"Model accuracy is: \", accuracy)\n",
    "    results = confusion_matrix(Y_test.ravel(),y_pred) \n",
    "    print(\"Confusion Matrix: \",results) \n",
    "#     roc(mod,X_test,Y_test)\n",
    "    print(mod.estimators_[0].coef_)\n",
    "\n",
    "def svm_rbf(X,Y,x,y,model):\n",
    "    X_train=X\n",
    "    X_test=x\n",
    "    Y_train=Y\n",
    "    Y_test=y\n",
    "    svm = SVC(kernel='rbf')\n",
    "    if model=='ovo':\n",
    "        mod = sm.OneVsOneClassifier(svm)\n",
    "    else:\n",
    "        mod = sm.OneVsRestClassifier(svm)\n",
    "    mod.fit(X_train,Y_train.ravel())\n",
    "    y_pred = mod.predict(X_test)\n",
    "    accuracy = accuracy_score(Y_test.ravel(), y_pred)\n",
    "    print(\"Model accuracy is: \", accuracy)\n",
    "    results = confusion_matrix(Y_test.ravel(),y_pred) \n",
    "    print(\"Confusion Matrix: \",results) \n",
    "#     roc(mod,X_test,Y_test)\n",
    "    print(mod.estimators_[0].dual_coef_)\n",
    "    \n",
    "def svm_poly(X,Y,x,y,model):\n",
    "    X_train=X\n",
    "    X_test=x\n",
    "    Y_train=Y\n",
    "    Y_test=y\n",
    "    svm = SVC(kernel='poly')\n",
    "    if model=='ovo':\n",
    "        mod = sm.OneVsOneClassifier(svm)\n",
    "    else:\n",
    "        mod = sm.OneVsRestClassifier(svm)\n",
    "    mod.fit(X_train,Y_train.ravel())\n",
    "    y_pred = mod.predict(X_test)\n",
    "    accuracy = accuracy_score(Y_test.ravel(), y_pred)\n",
    "    print(\"Model accuracy is: \", accuracy)\n",
    "    results = confusion_matrix(Y_test.ravel(),y_pred) \n",
    "    print(\"Confusion Matrix: \",results) \n",
    "    print(mod.estimators_[0].dual_coef_)\n",
    "#     roc(mod,X_test,Y_test)\n",
    "#     roc(mod,X_test,Y_test.ravel())"
   ]
  },
  {
   "cell_type": "code",
   "execution_count": null,
   "metadata": {},
   "outputs": [],
   "source": []
  },
  {
   "cell_type": "code",
   "execution_count": 6,
   "metadata": {},
   "outputs": [],
   "source": [
    "def pca(train):\n",
    "    pca = PCA(n_components=100, random_state=0, svd_solver='randomized')\n",
    "    pca.fit(train)\n",
    "    X_train = pca.transform(train)\n",
    "    return X_train\n",
    "    "
   ]
  },
  {
   "cell_type": "code",
   "execution_count": 7,
   "metadata": {},
   "outputs": [],
   "source": [
    "def pca_proc(i):\n",
    "    return pca(i)\n",
    "    \n",
    "   "
   ]
  },
  {
   "cell_type": "code",
   "execution_count": 8,
   "metadata": {},
   "outputs": [],
   "source": [
    "def split_train(data):\n",
    "    split=[]\n",
    "    split.append([data[0][:2000],data[1][:2000]])\n",
    "    split.append([data[0][2000:4000],data[1][2000:4000]])\n",
    "    split.append([data[0][4000:6000],data[1][4000:6000]])\n",
    "    split.append([data[0][6000:8000],data[1][6000:8000]])\n",
    "    split.append([data[0][8000:],data[1][8000:]])\n",
    "    return split"
   ]
  },
  {
   "cell_type": "code",
   "execution_count": 9,
   "metadata": {},
   "outputs": [],
   "source": [
    "train_data,labels=extract_data()\n",
    "for i in train_data:\n",
    "    i[0]=normalize123(i[0])\n",
    "    i[0]=pca_proc(i[0])\n",
    "    \n"
   ]
  },
  {
   "cell_type": "code",
   "execution_count": 10,
   "metadata": {},
   "outputs": [
    {
     "name": "stdout",
     "output_type": "stream",
     "text": [
      "(10000, 100)\n"
     ]
    }
   ],
   "source": [
    "print(train_data[0][0].shape)"
   ]
  },
  {
   "cell_type": "code",
   "execution_count": 11,
   "metadata": {},
   "outputs": [],
   "source": [
    "k_cross_split=split_train(train_data[0])\n",
    "trainx=[]\n",
    "trainy=[]\n",
    "\n",
    "trainx.append(np.vstack((k_cross_split[1][0],k_cross_split[2][0],k_cross_split[3][0],k_cross_split[4][0])))\n",
    "trainy.append(np.vstack((k_cross_split[1][1],k_cross_split[2][1],k_cross_split[3][1],k_cross_split[4][1])))\n",
    "\n",
    "trainx.append(np.vstack((k_cross_split[0][0],k_cross_split[2][0],k_cross_split[3][0],k_cross_split[4][0])))\n",
    "trainy.append(np.vstack((k_cross_split[0][1],k_cross_split[2][1],k_cross_split[3][1],k_cross_split[4][1])))\n",
    "\n",
    "trainx.append(np.vstack((k_cross_split[1][0],k_cross_split[0][0],k_cross_split[3][0],k_cross_split[4][0])))\n",
    "trainy.append(np.vstack((k_cross_split[1][1],k_cross_split[0][1],k_cross_split[3][1],k_cross_split[4][1])))\n",
    "\n",
    "trainx.append(np.vstack((k_cross_split[1][0],k_cross_split[2][0],k_cross_split[0][0],k_cross_split[4][0])))\n",
    "trainy.append(np.vstack((k_cross_split[1][1],k_cross_split[2][1],k_cross_split[0][1],k_cross_split[4][1])))\n",
    "\n",
    "trainx.append(np.vstack((k_cross_split[1][0],k_cross_split[2][0],k_cross_split[3][0],k_cross_split[0][0])))\n",
    "trainy.append(np.vstack((k_cross_split[1][1],k_cross_split[2][1],k_cross_split[3][1],k_cross_split[0][1])))\n",
    "\n",
    "testx=[k_cross_split[0][0],k_cross_split[1][0],k_cross_split[2][0],k_cross_split[3][0],k_cross_split[4][0]]\n",
    "testy=[k_cross_split[0][1],k_cross_split[1][1],k_cross_split[2][1],k_cross_split[3][1],k_cross_split[4][1]]\n"
   ]
  },
  {
   "cell_type": "code",
   "execution_count": 12,
   "metadata": {},
   "outputs": [],
   "source": [
    "def call_svm(X,Y,x,y):\n",
    "      one_vs_all('linear',X,Y,x,y)\n",
    "#     print(\"linear svm ovo start\")\n",
    "#     svm_linear(X,Y,x,y,'ovo')\n",
    "#     print(\"linear svm ovr start\")\n",
    "#     svm_linear(X,Y,x,y,'ovr')\n",
    "#     print(\"rbf svm ovo start\")\n",
    "#     svm_rbf(X,Y,x,y,'ovo')\n",
    "#     print(\"rbf svm ovr start\")\n",
    "#     svm_rbf(X,Y,x,y,'ovr')\n",
    "#     print(\"poly svm ovo start\")\n",
    "#     svm_poly(X,Y,x,y,'ovo')\n",
    "#     print(\"poly svm ovr start\")\n",
    "#     svm_poly(X,Y,x,y,'ovr')"
   ]
  },
  {
   "cell_type": "code",
   "execution_count": 13,
   "metadata": {},
   "outputs": [],
   "source": [
    "def change_label(index,input):\n",
    "    temp=np.where(input == i, 1, 0)\n",
    "    return temp\n",
    "def one_vs_all(ker,TrainX,TrainY,TestX,TestY):\n",
    "    fpr_li=[]\n",
    "    tpr_li=[]\n",
    "    values=[]\n",
    "    for i in range(10):\n",
    "        mod=SVC(kernel=ker, probability=True)\n",
    "        temp_trainy=change_label(i,TrainY)\n",
    "        temp_testy=change_label(i,TestY)\n",
    "        mod.fit(TrainX,temp_trainy.ravel())\n",
    "        probs = mod.decision_function(TestX)\n",
    "        fpr, tpr, thresholds = roc_curve(temp_testy, probs)\n",
    "        fpr_li.append(fpr)\n",
    "        tpr_li.append(tpr)\n",
    "        y_pred = mod.predict(TestX)\n",
    "        values.append(mod.predict_proba(TestX)[:,1])\n",
    "    predict=[]\n",
    "    for j in range(2000):\n",
    "        max_val=values[0][j]\n",
    "        index=0\n",
    "        for i in range(1,10):\n",
    "            if(values[i][j]>max_val):\n",
    "                max_val=values[i][j]\n",
    "                index=i\n",
    "        predict.append(index)\n",
    "    predict=np.asarray(predict)  \n",
    "    accuracy = accuracy_score(TestY,predict)\n",
    "    print(\"Model accuracy is: \", accuracy)\n",
    "    results = confusion_matrix(TestY,predict) \n",
    "    print(\"Confusion Matrix: \",results) \n",
    "    for i in range(len(fpr_li)):\n",
    "        plt.plot(fpr_li[i],tpr_li[i],label=('Class for '+str(i)))\n",
    "    plt.legend(loc='lower right')\n",
    "    plt.show()"
   ]
  },
  {
   "cell_type": "code",
   "execution_count": 14,
   "metadata": {
    "scrolled": false
   },
   "outputs": [
    {
     "name": "stdout",
     "output_type": "stream",
     "text": [
      "svm for 1 started\n",
      "[[0.97367292 0.02632708]\n",
      " [0.94301986 0.05698014]\n",
      " [0.8790049  0.1209951 ]\n",
      " ...\n",
      " [0.86403296 0.13596704]\n",
      " [0.92617502 0.07382498]\n",
      " [0.73603975 0.26396025]]\n",
      "[0 1]\n"
     ]
    },
    {
     "ename": "KeyboardInterrupt",
     "evalue": "",
     "output_type": "error",
     "traceback": [
      "\u001b[1;31m---------------------------------------------------------------------------\u001b[0m",
      "\u001b[1;31mKeyboardInterrupt\u001b[0m                         Traceback (most recent call last)",
      "\u001b[1;32m<ipython-input-14-90c5014736b7>\u001b[0m in \u001b[0;36m<module>\u001b[1;34m\u001b[0m\n\u001b[0;32m      1\u001b[0m \u001b[1;32mfor\u001b[0m \u001b[0mi\u001b[0m \u001b[1;32min\u001b[0m \u001b[0mrange\u001b[0m\u001b[1;33m(\u001b[0m\u001b[1;36m5\u001b[0m\u001b[1;33m)\u001b[0m\u001b[1;33m:\u001b[0m\u001b[1;33m\u001b[0m\u001b[0m\n\u001b[0;32m      2\u001b[0m     \u001b[0mprint\u001b[0m\u001b[1;33m(\u001b[0m\u001b[1;34m\"svm for \"\u001b[0m\u001b[1;33m+\u001b[0m\u001b[0mstr\u001b[0m\u001b[1;33m(\u001b[0m\u001b[0mi\u001b[0m\u001b[1;33m+\u001b[0m\u001b[1;36m1\u001b[0m\u001b[1;33m)\u001b[0m\u001b[1;33m+\u001b[0m\u001b[1;34m\" started\"\u001b[0m\u001b[1;33m)\u001b[0m\u001b[1;33m\u001b[0m\u001b[0m\n\u001b[1;32m----> 3\u001b[1;33m     \u001b[0mcall_svm\u001b[0m\u001b[1;33m(\u001b[0m\u001b[0mtrainx\u001b[0m\u001b[1;33m[\u001b[0m\u001b[0mi\u001b[0m\u001b[1;33m]\u001b[0m\u001b[1;33m,\u001b[0m\u001b[0mtrainy\u001b[0m\u001b[1;33m[\u001b[0m\u001b[0mi\u001b[0m\u001b[1;33m]\u001b[0m\u001b[1;33m,\u001b[0m\u001b[0mtestx\u001b[0m\u001b[1;33m[\u001b[0m\u001b[0mi\u001b[0m\u001b[1;33m]\u001b[0m\u001b[1;33m,\u001b[0m\u001b[0mtesty\u001b[0m\u001b[1;33m[\u001b[0m\u001b[0mi\u001b[0m\u001b[1;33m]\u001b[0m\u001b[1;33m)\u001b[0m\u001b[1;33m\u001b[0m\u001b[0m\n\u001b[0m\u001b[0;32m      4\u001b[0m     \u001b[1;32mbreak\u001b[0m\u001b[1;33m\u001b[0m\u001b[0m\n",
      "\u001b[1;32m<ipython-input-12-b7dc420404c4>\u001b[0m in \u001b[0;36mcall_svm\u001b[1;34m(X, Y, x, y)\u001b[0m\n\u001b[0;32m      1\u001b[0m \u001b[1;32mdef\u001b[0m \u001b[0mcall_svm\u001b[0m\u001b[1;33m(\u001b[0m\u001b[0mX\u001b[0m\u001b[1;33m,\u001b[0m\u001b[0mY\u001b[0m\u001b[1;33m,\u001b[0m\u001b[0mx\u001b[0m\u001b[1;33m,\u001b[0m\u001b[0my\u001b[0m\u001b[1;33m)\u001b[0m\u001b[1;33m:\u001b[0m\u001b[1;33m\u001b[0m\u001b[0m\n\u001b[1;32m----> 2\u001b[1;33m       \u001b[0mone_vs_all\u001b[0m\u001b[1;33m(\u001b[0m\u001b[1;34m'linear'\u001b[0m\u001b[1;33m,\u001b[0m\u001b[0mX\u001b[0m\u001b[1;33m,\u001b[0m\u001b[0mY\u001b[0m\u001b[1;33m,\u001b[0m\u001b[0mx\u001b[0m\u001b[1;33m,\u001b[0m\u001b[0my\u001b[0m\u001b[1;33m)\u001b[0m\u001b[1;33m\u001b[0m\u001b[0m\n\u001b[0m\u001b[0;32m      3\u001b[0m \u001b[1;31m#     print(\"linear svm ovo start\")\u001b[0m\u001b[1;33m\u001b[0m\u001b[1;33m\u001b[0m\u001b[0m\n\u001b[0;32m      4\u001b[0m \u001b[1;31m#     svm_linear(X,Y,x,y,'ovo')\u001b[0m\u001b[1;33m\u001b[0m\u001b[1;33m\u001b[0m\u001b[0m\n\u001b[0;32m      5\u001b[0m \u001b[1;31m#     print(\"linear svm ovr start\")\u001b[0m\u001b[1;33m\u001b[0m\u001b[1;33m\u001b[0m\u001b[0m\n",
      "\u001b[1;32m<ipython-input-13-98605bbf6fc6>\u001b[0m in \u001b[0;36mone_vs_all\u001b[1;34m(ker, TrainX, TrainY, TestX, TestY)\u001b[0m\n\u001b[0;32m      9\u001b[0m         \u001b[0mtemp_trainy\u001b[0m\u001b[1;33m=\u001b[0m\u001b[0mchange_label\u001b[0m\u001b[1;33m(\u001b[0m\u001b[0mi\u001b[0m\u001b[1;33m,\u001b[0m\u001b[0mTrainY\u001b[0m\u001b[1;33m)\u001b[0m\u001b[1;33m\u001b[0m\u001b[0m\n\u001b[0;32m     10\u001b[0m         \u001b[0mtemp_testy\u001b[0m\u001b[1;33m=\u001b[0m\u001b[0mchange_label\u001b[0m\u001b[1;33m(\u001b[0m\u001b[0mi\u001b[0m\u001b[1;33m,\u001b[0m\u001b[0mTestY\u001b[0m\u001b[1;33m)\u001b[0m\u001b[1;33m\u001b[0m\u001b[0m\n\u001b[1;32m---> 11\u001b[1;33m         \u001b[0mmod\u001b[0m\u001b[1;33m.\u001b[0m\u001b[0mfit\u001b[0m\u001b[1;33m(\u001b[0m\u001b[0mTrainX\u001b[0m\u001b[1;33m,\u001b[0m\u001b[0mtemp_trainy\u001b[0m\u001b[1;33m.\u001b[0m\u001b[0mravel\u001b[0m\u001b[1;33m(\u001b[0m\u001b[1;33m)\u001b[0m\u001b[1;33m)\u001b[0m\u001b[1;33m\u001b[0m\u001b[0m\n\u001b[0m\u001b[0;32m     12\u001b[0m         \u001b[0mprobs\u001b[0m \u001b[1;33m=\u001b[0m \u001b[0mmod\u001b[0m\u001b[1;33m.\u001b[0m\u001b[0mdecision_function\u001b[0m\u001b[1;33m(\u001b[0m\u001b[0mTestX\u001b[0m\u001b[1;33m)\u001b[0m\u001b[1;33m\u001b[0m\u001b[0m\n\u001b[0;32m     13\u001b[0m         \u001b[0mfpr\u001b[0m\u001b[1;33m,\u001b[0m \u001b[0mtpr\u001b[0m\u001b[1;33m,\u001b[0m \u001b[0mthresholds\u001b[0m \u001b[1;33m=\u001b[0m \u001b[0mroc_curve\u001b[0m\u001b[1;33m(\u001b[0m\u001b[0mtemp_testy\u001b[0m\u001b[1;33m,\u001b[0m \u001b[0mprobs\u001b[0m\u001b[1;33m)\u001b[0m\u001b[1;33m\u001b[0m\u001b[0m\n",
      "\u001b[1;32mc:\\users\\vc\\appdata\\local\\programs\\python\\python36\\lib\\site-packages\\sklearn\\svm\\base.py\u001b[0m in \u001b[0;36mfit\u001b[1;34m(self, X, y, sample_weight)\u001b[0m\n\u001b[0;32m    207\u001b[0m \u001b[1;33m\u001b[0m\u001b[0m\n\u001b[0;32m    208\u001b[0m         \u001b[0mseed\u001b[0m \u001b[1;33m=\u001b[0m \u001b[0mrnd\u001b[0m\u001b[1;33m.\u001b[0m\u001b[0mrandint\u001b[0m\u001b[1;33m(\u001b[0m\u001b[0mnp\u001b[0m\u001b[1;33m.\u001b[0m\u001b[0miinfo\u001b[0m\u001b[1;33m(\u001b[0m\u001b[1;34m'i'\u001b[0m\u001b[1;33m)\u001b[0m\u001b[1;33m.\u001b[0m\u001b[0mmax\u001b[0m\u001b[1;33m)\u001b[0m\u001b[1;33m\u001b[0m\u001b[0m\n\u001b[1;32m--> 209\u001b[1;33m         \u001b[0mfit\u001b[0m\u001b[1;33m(\u001b[0m\u001b[0mX\u001b[0m\u001b[1;33m,\u001b[0m \u001b[0my\u001b[0m\u001b[1;33m,\u001b[0m \u001b[0msample_weight\u001b[0m\u001b[1;33m,\u001b[0m \u001b[0msolver_type\u001b[0m\u001b[1;33m,\u001b[0m \u001b[0mkernel\u001b[0m\u001b[1;33m,\u001b[0m \u001b[0mrandom_seed\u001b[0m\u001b[1;33m=\u001b[0m\u001b[0mseed\u001b[0m\u001b[1;33m)\u001b[0m\u001b[1;33m\u001b[0m\u001b[0m\n\u001b[0m\u001b[0;32m    210\u001b[0m         \u001b[1;31m# see comment on the other call to np.iinfo in this file\u001b[0m\u001b[1;33m\u001b[0m\u001b[1;33m\u001b[0m\u001b[0m\n\u001b[0;32m    211\u001b[0m \u001b[1;33m\u001b[0m\u001b[0m\n",
      "\u001b[1;32mc:\\users\\vc\\appdata\\local\\programs\\python\\python36\\lib\\site-packages\\sklearn\\svm\\base.py\u001b[0m in \u001b[0;36m_dense_fit\u001b[1;34m(self, X, y, sample_weight, solver_type, kernel, random_seed)\u001b[0m\n\u001b[0;32m    266\u001b[0m                 \u001b[0mcache_size\u001b[0m\u001b[1;33m=\u001b[0m\u001b[0mself\u001b[0m\u001b[1;33m.\u001b[0m\u001b[0mcache_size\u001b[0m\u001b[1;33m,\u001b[0m \u001b[0mcoef0\u001b[0m\u001b[1;33m=\u001b[0m\u001b[0mself\u001b[0m\u001b[1;33m.\u001b[0m\u001b[0mcoef0\u001b[0m\u001b[1;33m,\u001b[0m\u001b[1;33m\u001b[0m\u001b[0m\n\u001b[0;32m    267\u001b[0m                 \u001b[0mgamma\u001b[0m\u001b[1;33m=\u001b[0m\u001b[0mself\u001b[0m\u001b[1;33m.\u001b[0m\u001b[0m_gamma\u001b[0m\u001b[1;33m,\u001b[0m \u001b[0mepsilon\u001b[0m\u001b[1;33m=\u001b[0m\u001b[0mself\u001b[0m\u001b[1;33m.\u001b[0m\u001b[0mepsilon\u001b[0m\u001b[1;33m,\u001b[0m\u001b[1;33m\u001b[0m\u001b[0m\n\u001b[1;32m--> 268\u001b[1;33m                 max_iter=self.max_iter, random_seed=random_seed)\n\u001b[0m\u001b[0;32m    269\u001b[0m \u001b[1;33m\u001b[0m\u001b[0m\n\u001b[0;32m    270\u001b[0m         \u001b[0mself\u001b[0m\u001b[1;33m.\u001b[0m\u001b[0m_warn_from_fit_status\u001b[0m\u001b[1;33m(\u001b[0m\u001b[1;33m)\u001b[0m\u001b[1;33m\u001b[0m\u001b[0m\n",
      "\u001b[1;31mKeyboardInterrupt\u001b[0m: "
     ]
    }
   ],
   "source": [
    "for i in range(5):\n",
    "    print(\"svm for \"+str(i+1)+\" started\")\n",
    "    call_svm(trainx[i],trainy[i],testx[i],testy[i])\n",
    "    break"
   ]
  },
  {
   "cell_type": "markdown",
   "metadata": {},
   "source": []
  },
  {
   "cell_type": "code",
   "execution_count": 21,
   "metadata": {},
   "outputs": [
    {
     "name": "stdout",
     "output_type": "stream",
     "text": [
      "0\n"
     ]
    }
   ],
   "source": [
    "max_count={0:0,1:1,2:0,3:0,4:0,5:0,6:0,7:0,8:0,9:0}\n",
    "print(max_count[1])"
   ]
  },
  {
   "cell_type": "code",
   "execution_count": null,
   "metadata": {},
   "outputs": [],
   "source": []
  },
  {
   "cell_type": "code",
   "execution_count": null,
   "metadata": {},
   "outputs": [],
   "source": []
  }
 ],
 "metadata": {
  "kernelspec": {
   "display_name": "Python 3",
   "language": "python",
   "name": "python3"
  }
 },
 "nbformat": 4,
 "nbformat_minor": 2
}
