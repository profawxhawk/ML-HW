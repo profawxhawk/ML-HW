{
 "cells": [
  {
   "cell_type": "code",
   "execution_count": 3,
   "metadata": {},
   "outputs": [],
   "source": [
    "import math\n",
    "import pandas as pd\n",
    "import numpy as np\n",
    "import matplotlib.pyplot as plt\n",
    "from sklearn.svm import SVC\n",
    "import pickle\n",
    "import sklearn.multiclass as sm\n",
    "from sklearn.decomposition import PCA\n",
    "from sklearn.metrics import confusion_matrix \n",
    "from sklearn.metrics import accuracy_score \n",
    "from sklearn.metrics import classification_report "
   ]
  },
  {
   "cell_type": "code",
   "execution_count": 4,
   "metadata": {},
   "outputs": [],
   "source": [
    "def unpickle(file):\n",
    "    with open(file, 'rb') as fo:\n",
    "        dict = pickle.load(fo, encoding='bytes')\n",
    "    return dict\n",
    "def normalize(x):\n",
    "    min_val = np.min(x)\n",
    "    max_val = np.max(x)\n",
    "    x = (x-min_val) / (max_val-min_val)\n",
    "    return x\n",
    "\n",
    "def convert(data):\n",
    "    im = data\n",
    "    im_r = im[0:1024].reshape(32, 32).astype('float64')\n",
    "    im_g = im[1024:2048].reshape(32, 32).astype('float64')\n",
    "    im_b = im[2048:].reshape(32, 32).astype('float64')\n",
    "    img = np.dstack((im_r, im_g, im_b))\n",
    "#     grey = rgb2gray(img)\n",
    "    return normalize(data).flatten()"
   ]
  },
  {
   "cell_type": "code",
   "execution_count": 5,
   "metadata": {},
   "outputs": [],
   "source": [
    "def extract_data():\n",
    "    train_data=[]\n",
    "    for i in range(1,6):\n",
    "        file='./cifar-10-batches-py/data_batch_'+str(i)\n",
    "        temp=unpickle(file)\n",
    "        temp_data=[]\n",
    "        mat_data=[]\n",
    "        for j in range(len(temp[b'data'])):\n",
    "            op=convert(temp[b'data'][j])\n",
    "            mat_data.append(op)\n",
    "        temp_data.append(np.asarray(mat_data).astype('float64'))\n",
    "        temp_data.append(np.asarray(temp[b'labels']).reshape(temp[b'data'].shape[0],1))\n",
    "        train_data.append(temp_data)\n",
    "    temp=unpickle('./cifar-10-batches-py/test_batch')\n",
    "    temp_data=[]\n",
    "    mat_data=[]\n",
    "    for j in range(len(temp[b'data'])):\n",
    "        op=convert(temp[b'data'][j])\n",
    "        mat_data.append(op)\n",
    "    temp_data.append(np.asarray(mat_data).astype('float64'))\n",
    "    temp_data.append(np.asarray(temp[b'labels']).reshape(temp[b'data'].shape[0],1))\n",
    "    test_data=temp_data\n",
    "    temp=unpickle('./cifar-10-batches-py/batches.meta')\n",
    "    labels=temp[b'label_names']\n",
    "    for i in range(len(labels)):\n",
    "        labels[i]=(labels[i].decode(\"utf-8\"))\n",
    "    return train_data,test_data,labels\n",
    "\n"
   ]
  },
  {
   "cell_type": "code",
   "execution_count": 38,
   "metadata": {},
   "outputs": [],
   "source": [
    "def normalize123(data,test):\n",
    "    data=data.astype('float64')\n",
    "    test=test.astype('float64')\n",
    "    mean = np.mean(data, axis = 0)\n",
    "    data -= mean\n",
    "    test -= mean\n",
    "    return data,test\n",
    "\n",
    "def roc(ovo,X_test,Y_test):\n",
    "    probabilities = ovo.predict_proba(X_test)\n",
    "    y_proba = probabilities[:, 1]\n",
    "    false_positive_rate, true_positive_rate, thresholds = roc_curve(Y_test, y_proba, pos_label=1)\n",
    "    roc_auc = auc(false_positive_rate, true_positive_rate)\n",
    "    plt.title('Receiver Operating Characteristic')\n",
    "    roc_plot = plt.plot(false_positive_rate,\n",
    "                        true_positive_rate,\n",
    "                        label='AUC = {:0.2f}'.format(roc_auc))\n",
    "\n",
    "    plt.legend(loc=0)\n",
    "    plt.plot([0,1], [0,1], ls='--')\n",
    "    plt.ylabel('True Positive Rate')\n",
    "    plt.xlabel('False Positive Rate')\n",
    "\n",
    "def svm_linear(X,Y,x,y,model):\n",
    "    X_train=X\n",
    "    X_test=x\n",
    "    Y_train=Y\n",
    "    Y_test=y\n",
    "    svm = SVC(kernel='linear')\n",
    "    if model=='ovo':\n",
    "        mod = sm.OneVsOneClassifier(svm)\n",
    "    else:\n",
    "        mod = sm.OneVsRestClassifier(svm)\n",
    "    mod.fit(X_train,Y_train.ravel())\n",
    "    y_pred = mod.predict(X_test)\n",
    "    accuracy = accuracy_score(Y_test.ravel(), y_pred)\n",
    "    print(\"Model accuracy is: \", accuracy)\n",
    "    results = confusion_matrix(Y_test.ravel(),y_pred) \n",
    "    print(\"Confusion Matrix: \",results) \n",
    "\n",
    "def svm_rbf(X,Y,x,y,model):\n",
    "    X_train=X\n",
    "    X_test=x\n",
    "    Y_train=Y\n",
    "    Y_test=y\n",
    "    svm = SVC(kernel='rbf')\n",
    "    if model=='ovo':\n",
    "        mod = sm.OneVsOneClassifier(svm)\n",
    "    else:\n",
    "        mod = sm.OneVsRestClassifier(svm)\n",
    "    mod.fit(X_train,Y_train.ravel())\n",
    "    y_pred = mod.predict(X_test)\n",
    "    accuracy = accuracy_score(Y_test.ravel(), y_pred)\n",
    "    print(\"Model accuracy is: \", accuracy)\n",
    "    results = confusion_matrix(Y_test.ravel(),y_pred) \n",
    "    print(\"Confusion Matrix: \",results) \n",
    "    \n",
    "def svm_poly(X,Y,x,y,model):\n",
    "    X_train=X\n",
    "    X_test=x\n",
    "    Y_train=Y\n",
    "    Y_test=y\n",
    "    svm = SVC(kernel='poly')\n",
    "    if model=='ovo':\n",
    "        mod = sm.OneVsOneClassifier(svm)\n",
    "    else:\n",
    "        mod = sm.OneVsRestClassifier(svm)\n",
    "    mod.fit(X_train,Y_train.ravel())\n",
    "    y_pred = mod.predict(X_test)\n",
    "    accuracy = accuracy_score(Y_test.ravel(), y_pred)\n",
    "    print(\"Model accuracy is: \", accuracy)\n",
    "    results = confusion_matrix(Y_test.ravel(),y_pred) \n",
    "    print(\"Confusion Matrix: \",results) \n",
    "#     roc(mod,X_test,Y_test.ravel())"
   ]
  },
  {
   "cell_type": "code",
   "execution_count": null,
   "metadata": {},
   "outputs": [],
   "source": []
  },
  {
   "cell_type": "code",
   "execution_count": 7,
   "metadata": {},
   "outputs": [],
   "source": [
    "def pca(train,test):\n",
    "    pca = PCA(n_components=500, random_state=0, svd_solver='randomized')\n",
    "    pca.fit(train[0])\n",
    "    X_train = pca.transform(train[0])\n",
    "    X_test = pca.transform(test[0])\n",
    "    return X_train,X_test\n",
    "    "
   ]
  },
  {
   "cell_type": "code",
   "execution_count": 8,
   "metadata": {},
   "outputs": [],
   "source": [
    "def pca_proc(i,test_data):\n",
    "    train,test=pca(i,test_data)\n",
    "    train=[train,i[1]]\n",
    "    test=[test,test_data[1]]\n",
    "    return [train,test]\n",
    "   "
   ]
  },
  {
   "cell_type": "code",
   "execution_count": 26,
   "metadata": {},
   "outputs": [],
   "source": [
    "def split_train(data):\n",
    "    split=[]\n",
    "    split.append([data[0][:2000],data[1][:2000]])\n",
    "    split.append([data[0][2000:4000],data[1][2000:4000]])\n",
    "    split.append([data[0][4000:6000],data[1][4000:6000]])\n",
    "    split.append([data[0][6000:8000],data[1][6000:8000]])\n",
    "    split.append([data[0][8000:],data[1][8000:]])\n",
    "    return split"
   ]
  },
  {
   "cell_type": "code",
   "execution_count": 9,
   "metadata": {},
   "outputs": [
    {
     "name": "stdout",
     "output_type": "stream",
     "text": [
      "(10000, 3072)\n"
     ]
    }
   ],
   "source": [
    "train_data,test_data,labels=extract_data()\n",
    "for i in train_data:\n",
    "    temp_test=test_data\n",
    "    i[0],temp_test[0]=normalize123(i[0],temp_test[0])\n"
   ]
  },
  {
   "cell_type": "code",
   "execution_count": 32,
   "metadata": {},
   "outputs": [],
   "source": [
    "k_cross_split=split_train(train_data[0])\n",
    "trainx=[]\n",
    "trainy=[]\n",
    "\n",
    "trainx.append(np.vstack((k_cross_split[1][0],k_cross_split[2][0],k_cross_split[3][0],k_cross_split[4][0])))\n",
    "trainy.append(np.vstack((k_cross_split[1][1],k_cross_split[2][1],k_cross_split[3][1],k_cross_split[4][1])))\n",
    "\n",
    "trainx.append(np.vstack((k_cross_split[0][0],k_cross_split[2][0],k_cross_split[3][0],k_cross_split[4][0])))\n",
    "trainy.append(np.vstack((k_cross_split[0][1],k_cross_split[2][1],k_cross_split[3][1],k_cross_split[4][1])))\n",
    "\n",
    "trainx.append(np.vstack((k_cross_split[1][0],k_cross_split[0][0],k_cross_split[3][0],k_cross_split[4][0])))\n",
    "trainy.append(np.vstack((k_cross_split[1][1],k_cross_split[0][1],k_cross_split[3][1],k_cross_split[4][1])))\n",
    "\n",
    "trainx.append(np.vstack((k_cross_split[1][0],k_cross_split[2][0],k_cross_split[0][0],k_cross_split[4][0])))\n",
    "trainy.append(np.vstack((k_cross_split[1][1],k_cross_split[2][1],k_cross_split[0][1],k_cross_split[4][1])))\n",
    "\n",
    "trainx.append(np.vstack((k_cross_split[1][0],k_cross_split[2][0],k_cross_split[3][0],k_cross_split[0][0])))\n",
    "trainy.append(np.vstack((k_cross_split[1][1],k_cross_split[2][1],k_cross_split[3][1],k_cross_split[0][1])))\n",
    "\n",
    "testx=[k_cross_split[0][0],k_cross_split[1][0],k_cross_split[2][0],k_cross_split[3][0],k_cross_split[4][0]]\n",
    "testy=[k_cross_split[0][1],k_cross_split[1][1],k_cross_split[2][1],k_cross_split[3][1],k_cross_split[4][1]]\n"
   ]
  },
  {
   "cell_type": "code",
   "execution_count": 40,
   "metadata": {},
   "outputs": [],
   "source": [
    "def call_svm(X,Y,x,y):\n",
    "    print(\"linear svm ovo start\")\n",
    "    svm_linear(X,Y,x,y,'ovo')\n",
    "    print(\"linear svm ovr start\")\n",
    "    svm_linear(X,Y,x,y,'ovr')\n",
    "#     svm_rbf(X,Y,x,y,'ovo')\n",
    "#     svm_rbf(X,Y,x,y,'ovr')\n",
    "#     svm_poly(X,Y,x,y,'ovo')\n",
    "#     svm_poly(X,Y,x,y,'ovr')"
   ]
  },
  {
   "cell_type": "code",
   "execution_count": null,
   "metadata": {},
   "outputs": [
    {
     "name": "stdout",
     "output_type": "stream",
     "text": [
      "svm for 1 started\n"
     ]
    }
   ],
   "source": [
    "for i in range(5):\n",
    "    print(\"svm for \"+str(i+1)+\" started\")\n",
    "    call_svm(trainx[i],trainy[i],testx[i],testy[i])\n",
    "    break"
   ]
  },
  {
   "cell_type": "code",
   "execution_count": null,
   "metadata": {},
   "outputs": [],
   "source": []
  }
 ],
 "metadata": {
  "kernelspec": {
   "display_name": "Python 3",
   "language": "python",
   "name": "python3"
  },
  "language_info": {
   "codemirror_mode": {
    "name": "ipython",
    "version": 3
   },
   "file_extension": ".py",
   "mimetype": "text/x-python",
   "name": "python",
   "nbconvert_exporter": "python",
   "pygments_lexer": "ipython3",
   "version": "3.6.8"
  }
 },
 "nbformat": 4,
 "nbformat_minor": 2
}
