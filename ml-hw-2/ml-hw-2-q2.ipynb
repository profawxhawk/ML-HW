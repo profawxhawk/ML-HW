{
 "cells": [
  {
   "cell_type": "code",
   "execution_count": 1,
   "metadata": {},
   "outputs": [],
   "source": [
    "import math\n",
    "import pandas as pd\n",
    "import numpy as np\n",
    "import matplotlib.pyplot as plt\n",
    "from sklearn.svm import SVC\n",
    "import pickle"
   ]
  },
  {
   "cell_type": "code",
   "execution_count": 2,
   "metadata": {},
   "outputs": [],
   "source": [
    "def unpickle(file):\n",
    "    with open(file, 'rb') as fo:\n",
    "        dict = pickle.load(fo, encoding='bytes')\n",
    "    return dict"
   ]
  },
  {
   "cell_type": "code",
   "execution_count": 28,
   "metadata": {},
   "outputs": [],
   "source": [
    "def extract_data():\n",
    "    train_data=[]\n",
    "    for i in range(1,6):\n",
    "        file='./cifar-10-batches-py/data_batch_'+str(i)\n",
    "        temp=unpickle(file)\n",
    "        temp_data=[]\n",
    "        temp_data.append(temp[b'data'].astype('float64'))\n",
    "        temp_data.append(np.asarray(temp[b'labels']).reshape(temp[b'data'].shape[0],1))\n",
    "        train_data.append(temp_data)\n",
    "    temp=unpickle('./cifar-10-batches-py/test_batch')\n",
    "    temp_data=[]\n",
    "    temp_data.append(temp[b'data'].astype('float64'))\n",
    "    temp_data.append(np.asarray(temp[b'labels']).reshape(temp[b'data'].shape[0],1))\n",
    "    test_data=temp_data\n",
    "    temp=unpickle('./cifar-10-batches-py/batches.meta')\n",
    "    labels=temp[b'label_names']\n",
    "    for i in range(len(labels)):\n",
    "        labels[i]=(labels[i].decode(\"utf-8\"))\n",
    "    return train_data,test_data,labels\n",
    "\n"
   ]
  },
  {
   "cell_type": "code",
   "execution_count": 42,
   "metadata": {},
   "outputs": [],
   "source": [
    "def normalize(data):\n",
    "    mean = np.mean(data, axis = 0)\n",
    "    data -= mean\n",
    "    return data\n",
    "def svm_linear(data,test):\n",
    "    data[0]=data[0].astype('float64')\n",
    "    test[0]=test[0].astype('float64')\n",
    "    data[0]=normalize(data[0])\n",
    "    test[0]=normalize(test[0])\n",
    "    X=data[0]\n",
    "    Y=data[1]\n",
    "    clf = SVC(kernel='linear', C=10, gamma=0.01,decision_function_shape='ovr',verbose=True,max_iter=100)\n",
    "    clf.fit(X,Y)\n",
    "    accuracy = clf.score(test[0],test[1])\n",
    "    print (\"Accuracy: \", accuracy)"
   ]
  },
  {
   "cell_type": "code",
   "execution_count": 43,
   "metadata": {},
   "outputs": [
    {
     "name": "stderr",
     "output_type": "stream",
     "text": [
      "/usr/local/lib/python3.6/dist-packages/sklearn/utils/validation.py:724: DataConversionWarning: A column-vector y was passed when a 1d array was expected. Please change the shape of y to (n_samples, ), for example using ravel().\n",
      "  y = column_or_1d(y, warn=True)\n"
     ]
    },
    {
     "name": "stdout",
     "output_type": "stream",
     "text": [
      "[LibSVM]"
     ]
    },
    {
     "name": "stderr",
     "output_type": "stream",
     "text": [
      "/usr/local/lib/python3.6/dist-packages/sklearn/svm/base.py:241: ConvergenceWarning: Solver terminated early (max_iter=100).  Consider pre-processing your data with StandardScaler or MinMaxScaler.\n",
      "  % self.max_iter, ConvergenceWarning)\n"
     ]
    },
    {
     "name": "stdout",
     "output_type": "stream",
     "text": [
      "Accuracy:  0.2205\n"
     ]
    }
   ],
   "source": [
    "train_data,test_data,labels=extract_data()\n",
    "svm_linear(train_data[0],test_data)"
   ]
  },
  {
   "cell_type": "code",
   "execution_count": null,
   "metadata": {},
   "outputs": [],
   "source": []
  }
 ],
 "metadata": {
  "kernelspec": {
   "display_name": "Python 3",
   "language": "python",
   "name": "python3"
  },
  "language_info": {
   "codemirror_mode": {
    "name": "ipython",
    "version": 3
   },
   "file_extension": ".py",
   "mimetype": "text/x-python",
   "name": "python",
   "nbconvert_exporter": "python",
   "pygments_lexer": "ipython3",
   "version": "3.6.8"
  }
 },
 "nbformat": 4,
 "nbformat_minor": 2
}
